{
  "nbformat": 4,
  "nbformat_minor": 0,
  "metadata": {
    "colab": {
      "provenance": []
    },
    "kernelspec": {
      "name": "python3",
      "display_name": "Python 3"
    },
    "language_info": {
      "name": "python"
    }
  },
  "cells": [
    {
      "cell_type": "code",
      "execution_count": null,
      "metadata": {
        "id": "8kbx9k9uhkFh"
      },
      "outputs": [],
      "source": [
        "import pandas as pd\n",
        "import numpy as np\n",
        "import requests\n",
        "import joblib\n",
        "import requests\n",
        "url = \"http://127.0.0.1:5000/survey\"\n",
        "try:\n",
        "    response = requests.get(url)\n",
        "    if response.status_code == 200:\n",
        "        data1 = response.json()\n",
        "        print(\"Data fetched successfully:\", data1)\n",
        "    else:\n",
        "        print(f\"Failed to fetch data. Status code: {response.status_code}\")\n",
        "        print(\"Response:\", response.text)\n",
        "except Exception as e:\n",
        "    print(\"Error occurred:\", e)\n"
      ]
    },
    {
      "cell_type": "code",
      "source": [
        "compositehr = 3*(data1['survey'][0]['time_reading'] + data1['survey'][0]['time_studying']) + 2*data1['survey'][0]['time_video_games'] + data1['survey'][0]['time_tv']"
      ],
      "metadata": {
        "id": "-3vRk-Nollgf"
      },
      "execution_count": null,
      "outputs": []
    },
    {
      "cell_type": "code",
      "source": [
        "if data1['survey'][0]['gender'] == 'Male':\n",
        "    data1['survey'][0]['gender'] = 0\n",
        "else:\n",
        "    data1['survey'][0]['gender'] = 1\n",
        "input_list = [data1['survey'][0]['age'], data1['survey'][0]['gender'], compositehr, data1['survey'][0]['mom'], data1['survey'][0]['dad']]\n",
        "input_arr = np.array(input_list).reshape(1, -1)"
      ],
      "metadata": {
        "id": "I-789hBulo1U"
      },
      "execution_count": null,
      "outputs": []
    },
    {
      "cell_type": "code",
      "source": [
        "model = joblib.load(\"/content/logistic_model.pth\")\n",
        "output = model.predict_proba(input_arr)\n",
        "risk = {'sol': float(output[0][0])}"
      ],
      "metadata": {
        "id": "ybYkXcWDkeDB"
      },
      "execution_count": null,
      "outputs": []
    },
    {
      "cell_type": "code",
      "source": [
        "url = \"http://127.0.0.1:5000/create_result\"\n",
        "try:\n",
        "    response = requests.post(url, json=risk)\n",
        "    if response.status_code == 200:\n",
        "        risk_response = response.json()\n",
        "        print(\"Data fetched successfully:\", risk_response)\n",
        "    else:\n",
        "        print(f\"Failed to fetch data. Status code: {response.status_code}\")\n",
        "        print(\"Response:\", response.text)\n",
        "except Exception as e:\n",
        "    print(\"Error occurred:\", e)"
      ],
      "metadata": {
        "id": "aP9qiI8oluWv"
      },
      "execution_count": null,
      "outputs": []
    }
  ]
}