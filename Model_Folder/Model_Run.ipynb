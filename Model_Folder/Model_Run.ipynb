{
 "cells": [
  {
   "cell_type": "code",
   "execution_count": 238,
   "metadata": {},
   "outputs": [],
   "source": [
    "import numpy as np\n",
    "import pandas as pd\n",
    "import torch\n",
    "import torch.nn as nn\n",
    "import requests"
   ]
  },
  {
   "cell_type": "code",
   "execution_count": 239,
   "metadata": {},
   "outputs": [
    {
     "name": "stdout",
     "output_type": "stream",
     "text": [
      "Error occurred: HTTPConnectionPool(host='127.0.0.1', port=5000): Max retries exceeded with url: /survey (Caused by NewConnectionError('<urllib3.connection.HTTPConnection object at 0x00000192FB672D10>: Failed to establish a new connection: [WinError 10061] No connection could be made because the target machine actively refused it'))\n"
     ]
    }
   ],
   "source": [
    "import requests\n",
    "\n",
    "# Backend API URL\n",
    "url = \"http://127.0.0.1:5000/survey\"  # Replace 'endpoint' with your actual route\n",
    "\n",
    "try:\n",
    "    # Make a GET request\n",
    "    response = requests.get(url)\n",
    "\n",
    "    # Check if the request was successful\n",
    "    if response.status_code == 200:\n",
    "        # Parse the JSON response\n",
    "        data1 = response.json()\n",
    "        print(\"Data fetched successfully:\", data1)\n",
    "    else:\n",
    "        print(f\"Failed to fetch data. Status code: {response.status_code}\")\n",
    "        print(\"Response:\", response.text)\n",
    "except Exception as e:\n",
    "    print(\"Error occurred:\", e)"
   ]
  },
  {
   "cell_type": "code",
   "execution_count": 240,
   "metadata": {},
   "outputs": [],
   "source": [
    "class Model(nn.Module):\n",
    "    def __init__(self, input_dim, hidden_dims, output_dim):\n",
    "        super(Model, self).__init__()\n",
    "        layers = []\n",
    "        in_dim = input_dim\n",
    "        for h in hidden_dims:\n",
    "            layer = nn.Linear(in_dim, h)\n",
    "            torch.nn.init.normal_(layer.weight)\n",
    "            layers.append(layer)\n",
    "            layers.append(nn.ReLU())\n",
    "            in_dim = h\n",
    "        final_layer = nn.Linear(in_dim, output_dim)\n",
    "        torch.nn.init.normal_(final_layer.weight)\n",
    "        layers.append(final_layer)\n",
    "        layers.append(nn.Softmax(dim=1))\n",
    "        self.net = nn.Sequential(*layers)\n",
    "\n",
    "    def forward(self, x):\n",
    "        return self.net(x)"
   ]
  },
  {
   "cell_type": "code",
   "execution_count": 241,
   "metadata": {},
   "outputs": [],
   "source": [
    "input_dim = 5\n",
    "hidden_dims = [5, 5]\n",
    "output_dim = 2"
   ]
  },
  {
   "cell_type": "code",
   "execution_count": 242,
   "metadata": {},
   "outputs": [],
   "source": [
    "model0 = Model(input_dim = input_dim, hidden_dims = hidden_dims, output_dim = output_dim)"
   ]
  },
  {
   "cell_type": "code",
   "execution_count": 243,
   "metadata": {},
   "outputs": [
    {
     "data": {
      "text/plain": [
       "<All keys matched successfully>"
      ]
     },
     "execution_count": 243,
     "metadata": {},
     "output_type": "execute_result"
    }
   ],
   "source": [
    "state_dict = torch.load('model0.pth')  # Replace with the actual file\n",
    "model0.eval()\n",
    "model0.load_state_dict(state_dict)"
   ]
  },
  {
   "cell_type": "code",
   "execution_count": 244,
   "metadata": {},
   "outputs": [
    {
     "data": {
      "text/plain": [
       "{'age': 6,\n",
       " 'dad': 1,\n",
       " 'gender': 1,\n",
       " 'id': 1,\n",
       " 'mom': 1,\n",
       " 'name': 'Y Niteesh Reddy',\n",
       " 'time_reading': 0,\n",
       " 'time_sports': 4,\n",
       " 'time_studying': 1,\n",
       " 'time_tv': 7,\n",
       " 'time_video_games': 1}"
      ]
     },
     "execution_count": 244,
     "metadata": {},
     "output_type": "execute_result"
    }
   ],
   "source": [
    "data1['survey'][0]"
   ]
  },
  {
   "cell_type": "code",
   "execution_count": 245,
   "metadata": {},
   "outputs": [],
   "source": [
    "compositehr = 3*(data1['survey'][0]['time_reading']+data1['survey'][0]['time_studying'])+2*data1['survey'][0]['time_video_games']+data1['survey'][0]['time_tv']"
   ]
  },
  {
   "cell_type": "code",
   "execution_count": 246,
   "metadata": {},
   "outputs": [
    {
     "data": {
      "text/plain": [
       "12"
      ]
     },
     "execution_count": 246,
     "metadata": {},
     "output_type": "execute_result"
    }
   ],
   "source": [
    "compositehr"
   ]
  },
  {
   "cell_type": "code",
   "execution_count": 247,
   "metadata": {},
   "outputs": [],
   "source": [
    "if data1['survey'][0]['gender'] == 'Male':\n",
    "    data1['survey'][0]['gender'] = 0\n",
    "else:\n",
    "    data1['survey'][0]['gender'] = 1"
   ]
  },
  {
   "cell_type": "code",
   "execution_count": 248,
   "metadata": {},
   "outputs": [],
   "source": [
    "input_df = []\n",
    "input_df.append(data1['survey'][0]['age'])\n",
    "input_df.append(data1['survey'][0]['gender'])\n",
    "input_df.append(compositehr)\n",
    "input_df.append(data1['survey'][0]['mom'])\n",
    "input_df.append(data1['survey'][0]['dad'])\n",
    "input = torch.tensor(input_df)"
   ]
  },
  {
   "cell_type": "code",
   "execution_count": 249,
   "metadata": {},
   "outputs": [
    {
     "data": {
      "text/plain": [
       "tensor([[ 6.,  1., 12.,  1.,  1.]])"
      ]
     },
     "execution_count": 249,
     "metadata": {},
     "output_type": "execute_result"
    }
   ],
   "source": [
    "float_input"
   ]
  },
  {
   "cell_type": "code",
   "execution_count": 250,
   "metadata": {},
   "outputs": [],
   "source": [
    "with torch.no_grad():\n",
    "    float_input = input.float()\n",
    "    float_input = float_input.unsqueeze(0)\n",
    "    output = model0(float_input)"
   ]
  },
  {
   "cell_type": "code",
   "execution_count": 251,
   "metadata": {},
   "outputs": [
    {
     "data": {
      "text/plain": [
       "0"
      ]
     },
     "execution_count": 251,
     "metadata": {},
     "output_type": "execute_result"
    }
   ],
   "source": [
    "int(output[0][0])"
   ]
  },
  {
   "cell_type": "code",
   "execution_count": 252,
   "metadata": {},
   "outputs": [],
   "source": [
    "#risk_float = 0.1*output[0][0] + 0.3*data['tests'][0]['snell'] + 0.3*data['tests'][0]['asti'] + 0.3*data['tests'][0]['blur']"
   ]
  },
  {
   "cell_type": "code",
   "execution_count": 253,
   "metadata": {},
   "outputs": [],
   "source": [
    "risk = {\n",
    "    'sol' : float(output[0][0])\n",
    "}"
   ]
  },
  {
   "cell_type": "code",
   "execution_count": 254,
   "metadata": {},
   "outputs": [
    {
     "name": "stdout",
     "output_type": "stream",
     "text": [
      "Error occurred: HTTPConnectionPool(host='127.0.0.1', port=5000): Max retries exceeded with url: /result (Caused by NewConnectionError('<urllib3.connection.HTTPConnection object at 0x00000192FBFAE310>: Failed to establish a new connection: [WinError 10061] No connection could be made because the target machine actively refused it'))\n"
     ]
    }
   ],
   "source": [
    "import requests\n",
    "\n",
    "# Backend API URL\n",
    "url = \"http://127.0.0.1:5000/result\"  # Replace with your actual endpoint\n",
    "\n",
    "try:\n",
    "    # Making the POST request\n",
    "    response = requests.post(url, json=risk)  # Use `json` to send a JSON payload\n",
    "\n",
    "    # Check if the request was successful\n",
    "    if response.status_code == 200:\n",
    "        # Parse the JSON response\n",
    "        data1 = response.json()\n",
    "        print(\"Data fetched successfully:\", data1)\n",
    "    else:\n",
    "        print(f\"Failed to fetch data. Status code: {response.status_code}\")\n",
    "        print(\"Response:\", response.text)\n",
    "except Exception as e:\n",
    "    print(\"Error occurred:\", e)\n"
   ]
  }
 ],
 "metadata": {
  "kernelspec": {
   "display_name": "Python 3",
   "language": "python",
   "name": "python3"
  },
  "language_info": {
   "codemirror_mode": {
    "name": "ipython",
    "version": 3
   },
   "file_extension": ".py",
   "mimetype": "text/x-python",
   "name": "python",
   "nbconvert_exporter": "python",
   "pygments_lexer": "ipython3",
   "version": "3.11.9"
  }
 },
 "nbformat": 4,
 "nbformat_minor": 2
}
